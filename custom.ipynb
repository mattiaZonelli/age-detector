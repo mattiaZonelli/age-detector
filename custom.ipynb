{
 "cells": [
  {
   "cell_type": "code",
   "execution_count": null,
   "metadata": {},
   "outputs": [],
   "source": [
    "import os\n",
    "import pandas as pd\n",
    "import numpy as np\n",
    "import matplotlib.pyplot as plt\n",
    "from PIL import Image\n",
    "import tensorflow as tf\n",
    "\n",
    "IMG_SIZE = (114, 114)"
   ]
  },
  {
   "cell_type": "code",
   "execution_count": null,
   "metadata": {},
   "outputs": [],
   "source": [
    "# remove images from folder that are not faces\n",
    "def delete_files_without_keyword(folder_path, keyword):\n",
    "    for filename in os.listdir(folder_path):\n",
    "        if keyword not in filename:\n",
    "            file_path = os.path.join(folder_path, filename)\n",
    "            if os.path.isfile(file_path):\n",
    "                os.remove(file_path)\n",
    "                print(f\"Deleted: {filename}\")\n"
   ]
  },
  {
   "cell_type": "code",
   "execution_count": null,
   "metadata": {},
   "outputs": [],
   "source": [
    "# open the csv with filenames and real_age\n",
    "def open_csv(path):\n",
    "    df = pd.read_csv(path)\n",
    "    df = df.drop_duplicates(subset=['file_name']).reset_index(drop=True)\n",
    "    print(df.head())\n",
    "    return df\n",
    "# len(df_train) = 4113"
   ]
  },
  {
   "cell_type": "code",
   "execution_count": null,
   "metadata": {},
   "outputs": [],
   "source": [
    "def open_imgs(imgs_path, df, img_size):\n",
    "    imgs = np.zeros((len(df), img_size[0], img_size[1]), dtype=int)  # Grayscale doesn't require an extra dimension\n",
    "    for index, row in df.iterrows():\n",
    "        tmp = Image.open(os.path.join(imgs_path, (row['file_name'] + '_face.jpg'))).convert('L')  # Convert to grayscale\n",
    "        resized_image = tmp.resize((img_size[0], img_size[1]))\n",
    "        imgs[index] = np.array(resized_image)\n",
    "\n",
    "    return imgs"
   ]
  },
  {
   "cell_type": "code",
   "execution_count": null,
   "metadata": {},
   "outputs": [],
   "source": [
    "df_train = open_csv('/Users/mattia/Downloads/appa-real-release/gt_train.csv')\n",
    "train_path = '/Users/mattia/Downloads/appa-real-release/train'\n",
    "x_train = open_imgs(train_path, df_train, IMG_SIZE)\n",
    "y_train = df_train['real_age']\n",
    "\n",
    "df_valid = open_csv('/Users/mattia/Downloads/appa-real-release/gt_valid.csv')\n",
    "valid_path = '/Users/mattia/Downloads/appa-real-release/valid'\n",
    "x_valid = open_imgs(valid_path, df_valid, IMG_SIZE)\n",
    "y_valid = df_valid['real_age']"
   ]
  },
  {
   "cell_type": "code",
   "execution_count": null,
   "metadata": {},
   "outputs": [],
   "source": [
    "# map each feature value from its current representation (an integer between 0 and 255) \n",
    "# to a floating-point value between 0 and 1.0\n",
    "x_train_normalized = x_train / 255.0\n",
    "x_valid_normalized = x_valid / 255.0\n",
    "\n",
    "x_train_normalized = np.expand_dims(x_train_normalized, axis=-1)\n",
    "x_valid_normalized = np.expand_dims(x_valid_normalized, axis=-1)\n",
    "print(x_train_normalized.shape, x_valid_normalized.shape)"
   ]
  },
  {
   "cell_type": "code",
   "execution_count": null,
   "metadata": {},
   "outputs": [],
   "source": [
    "plt.hist(y_train, bins=100, color='blue', alpha=0.7)\n",
    "plt.title('Distribution of Values')\n",
    "plt.xlabel('Value')\n",
    "plt.ylabel('Frequency')\n",
    "plt.show()"
   ]
  },
  {
   "cell_type": "code",
   "execution_count": null,
   "metadata": {},
   "outputs": [],
   "source": [
    "def age2class(age):\n",
    "    if 0 <= age <= 4:\n",
    "        return 0\n",
    "    elif 5 <= age <= 9:\n",
    "        return 1\n",
    "    elif 10 <= age <= 14:\n",
    "        return 2\n",
    "    elif 15 <= age <= 20:\n",
    "        return 3\n",
    "    elif 21 <= age <= 26:\n",
    "        return 4\n",
    "    elif 27 <= age <= 35:\n",
    "        return 5\n",
    "    elif 36 <= age <= 43:\n",
    "        return 6\n",
    "    elif 44 <= age <= 50:\n",
    "        return 7\n",
    "    elif 51 <= age <= 62:\n",
    "        return 8\n",
    "    else:  # 63 <= age <= 100:\n",
    "        return 9\n",
    "\n",
    "vectorized_age2class = np.vectorize(age2class)\n",
    "\n",
    "# Apply the vectorized function to the array\n",
    "y_train_binned = vectorized_age2class(y_train)\n",
    "y_valid_binned = vectorized_age2class(y_valid)\n"
   ]
  },
  {
   "cell_type": "code",
   "execution_count": null,
   "metadata": {
    "scrolled": true
   },
   "outputs": [],
   "source": [
    "def plot_curve(epochs, hist, list_of_metrics):\n",
    "  \"\"\"Plot a curve of one or more classification metrics vs. epoch.\"\"\"\n",
    "  # list_of_metrics should be one of the names shown in:\n",
    "  # https://www.tensorflow.org/tutorials/structured_data/imbalanced_data#define_the_model_and_metrics\n",
    "\n",
    "  plt.figure()\n",
    "  plt.xlabel(\"Epoch\")\n",
    "  plt.ylabel(\"Value\")\n",
    "\n",
    "  for m in list_of_metrics:\n",
    "    x = hist[m]\n",
    "    plt.plot(epochs[1:], x[1:], label=m)\n",
    "\n",
    "  plt.legend()\n",
    "\n",
    "print(\"Loaded the plot_curve function.\")"
   ]
  },
  {
   "cell_type": "code",
   "execution_count": null,
   "metadata": {},
   "outputs": [],
   "source": [
    "# custom cnn found at https://medium.com/mlearning-ai/age-detection-using-cnn-with-keras-with-source-code-easiest-way-easy-implementation-57c107b23bc4\n",
    "class MyAgeEstimator(tf.keras.Model):\n",
    "    def __init__(self, num_classes, learning_rate):\n",
    "        super(MyAgeEstimator, self).__init__()\n",
    "\n",
    "        self.model = tf.keras.models.Sequential([\n",
    "            tf.keras.layers.Conv2D(filters=32, kernel_size=3, activation='relu', input_shape=(114, 114, 1)),\n",
    "            tf.keras.layers.AveragePooling2D(pool_size=(2, 2)),\n",
    "            tf.keras.layers.Conv2D(filters=64, kernel_size=3, activation='relu'),\n",
    "            tf.keras.layers.AveragePooling2D(pool_size=(2, 2)),\n",
    "            tf.keras.layers.Conv2D(filters=128, kernel_size=3, activation='relu'),\n",
    "            tf.keras.layers.AveragePooling2D(pool_size=(2, 2)),\n",
    "            tf.keras.layers.Conv2D(filters=256, kernel_size=3, activation='relu'),\n",
    "            tf.keras.layers.AveragePooling2D(pool_size=(2, 2)),\n",
    "            tf.keras.layers.GlobalAveragePooling2D(),\n",
    "            tf.keras.layers.Dense(132, activation='relu'),\n",
    "            tf.keras.layers.Dense(num_classes, activation='softmax')\n",
    "        ])\n",
    "\n",
    "        self.model.compile(\n",
    "            #optimizer=tf.keras.optimizers.Adam(learning_rate=learning_rate),\n",
    "            optimizer='adam',\n",
    "            loss=\"sparse_categorical_crossentropy\",\n",
    "            metrics=['accuracy']\n",
    "        )\n",
    "\n",
    "    def call(self, inputs):\n",
    "        return self.model(inputs)\n"
   ]
  },
  {
   "cell_type": "code",
   "execution_count": null,
   "metadata": {},
   "outputs": [],
   "source": [
    "num_classes = 10\n",
    "learning_rate = 1e-5\n",
    "batch_size = 128\n",
    "epochs = 25\n",
    "\n",
    "#ageEst = MyAgeEstimator(num_classes, learning_rate)\n",
    "#ageEst.model.summary()"
   ]
  },
  {
   "cell_type": "code",
   "execution_count": null,
   "metadata": {},
   "outputs": [],
   "source": [
    "history = ageEst.model.fit(x=x_train_normalized, y=y_train_binned, batch_size=batch_size, epochs=epochs, validation_data=(x_valid_normalized, y_valid_binned), shuffle=False)\n",
    "epochs = history.epoch\n",
    "hist = pd.DataFrame(history.history)\n",
    "list_of_metrics_to_plot = ['accuracy']\n",
    "plot_curve(epochs, hist, list_of_metrics_to_plot)"
   ]
  },
  {
   "cell_type": "code",
   "execution_count": null,
   "metadata": {},
   "outputs": [],
   "source": [
    "plotting_data_dict = history.history\n",
    "\n",
    "plt.figure(figsize=(12,8))\n",
    "\n",
    "valid_loss = plotting_data_dict['val_loss']\n",
    "training_loss = plotting_data_dict['loss']\n",
    "valid_accuracy = plotting_data_dict['val_accuracy']\n",
    "training_accuracy = plotting_data_dict['accuracy']\n",
    "\n",
    "epochs = range(1,len(valid_loss)+1)\n",
    "\n",
    "plt.subplot(121)\n",
    "plt.plot(epochs,valid_loss,marker='X',label='valid_loss')\n",
    "plt.plot(epochs,training_loss,marker='X',label='training_loss')\n",
    "plt.legend()\n",
    "\n",
    "plt.subplot(122)\n",
    "plt.plot(epochs,valid_accuracy,marker='X',label='valid_accuracy')\n",
    "plt.plot(epochs,training_accuracy,marker='X',label='training_accuracy')\n",
    "plt.legend()"
   ]
  }
 ],
 "metadata": {
  "kernelspec": {
   "display_name": "Python 3",
   "language": "python",
   "name": "python3"
  },
  "language_info": {
   "codemirror_mode": {
    "name": "ipython",
    "version": 3
   },
   "file_extension": ".py",
   "mimetype": "text/x-python",
   "name": "python",
   "nbconvert_exporter": "python",
   "pygments_lexer": "ipython3",
   "version": "3.9.10"
  },
  "vscode": {
   "interpreter": {
    "hash": "aee8b7b246df8f9039afb4144a1f6fd8d2ca17a180786b69acc140d282b71a49"
   }
  }
 },
 "nbformat": 4,
 "nbformat_minor": 4
}
